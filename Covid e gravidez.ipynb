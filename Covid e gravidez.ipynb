{
 "cells": [
  {
   "cell_type": "markdown",
   "id": "1442f2b8",
   "metadata": {},
   "source": [
    "Tentativa simples de analisar casos de gravidez (e sem conseguir, pois não achei gravidez nos dados), portanto tentando analisar pessoas com puérpera==SIM"
   ]
  },
  {
   "cell_type": "code",
   "execution_count": 79,
   "id": "6f877970",
   "metadata": {},
   "outputs": [],
   "source": [
    "import pandas as pd\n",
    "import seaborn as sns"
   ]
  },
  {
   "cell_type": "code",
   "execution_count": 80,
   "id": "81847256",
   "metadata": {},
   "outputs": [
    {
     "data": {
      "text/html": [
       "<div>\n",
       "<style scoped>\n",
       "    .dataframe tbody tr th:only-of-type {\n",
       "        vertical-align: middle;\n",
       "    }\n",
       "\n",
       "    .dataframe tbody tr th {\n",
       "        vertical-align: top;\n",
       "    }\n",
       "\n",
       "    .dataframe thead th {\n",
       "        text-align: right;\n",
       "    }\n",
       "</style>\n",
       "<table border=\"1\" class=\"dataframe\">\n",
       "  <thead>\n",
       "    <tr style=\"text-align: right;\">\n",
       "      <th></th>\n",
       "      <th>nome_munic</th>\n",
       "      <th>codigo_ibge</th>\n",
       "      <th>idade</th>\n",
       "      <th>cs_sexo</th>\n",
       "      <th>diagnostico_covid19</th>\n",
       "      <th>data_inicio_sintomas</th>\n",
       "      <th>obito</th>\n",
       "      <th>asma</th>\n",
       "      <th>cardiopatia</th>\n",
       "      <th>diabetes</th>\n",
       "      <th>...</th>\n",
       "      <th>imunodepressao</th>\n",
       "      <th>obesidade</th>\n",
       "      <th>outros_fatores_de_risco</th>\n",
       "      <th>pneumopatia</th>\n",
       "      <th>puerpera</th>\n",
       "      <th>sindrome_de_down</th>\n",
       "      <th>contador</th>\n",
       "      <th>puerpera_sim</th>\n",
       "      <th>puerpera_nao</th>\n",
       "      <th>puerpera_obito</th>\n",
       "    </tr>\n",
       "  </thead>\n",
       "  <tbody>\n",
       "    <tr>\n",
       "      <th>0</th>\n",
       "      <td>Suzano</td>\n",
       "      <td>3552502</td>\n",
       "      <td>13.0</td>\n",
       "      <td>FEMININO</td>\n",
       "      <td>CONFIRMADO</td>\n",
       "      <td>2021-05-24 00:00:00+00:00</td>\n",
       "      <td>0</td>\n",
       "      <td>IGNORADO</td>\n",
       "      <td>IGNORADO</td>\n",
       "      <td>IGNORADO</td>\n",
       "      <td>...</td>\n",
       "      <td>IGNORADO</td>\n",
       "      <td>IGNORADO</td>\n",
       "      <td>IGNORADO</td>\n",
       "      <td>IGNORADO</td>\n",
       "      <td>IGNORADO</td>\n",
       "      <td>IGNORADO</td>\n",
       "      <td>1</td>\n",
       "      <td>False</td>\n",
       "      <td>False</td>\n",
       "      <td>False</td>\n",
       "    </tr>\n",
       "    <tr>\n",
       "      <th>1</th>\n",
       "      <td>Suzano</td>\n",
       "      <td>3552502</td>\n",
       "      <td>37.0</td>\n",
       "      <td>MASCULINO</td>\n",
       "      <td>CONFIRMADO</td>\n",
       "      <td>2021-05-24 00:00:00+00:00</td>\n",
       "      <td>0</td>\n",
       "      <td>IGNORADO</td>\n",
       "      <td>IGNORADO</td>\n",
       "      <td>IGNORADO</td>\n",
       "      <td>...</td>\n",
       "      <td>IGNORADO</td>\n",
       "      <td>IGNORADO</td>\n",
       "      <td>IGNORADO</td>\n",
       "      <td>IGNORADO</td>\n",
       "      <td>IGNORADO</td>\n",
       "      <td>IGNORADO</td>\n",
       "      <td>1</td>\n",
       "      <td>False</td>\n",
       "      <td>False</td>\n",
       "      <td>False</td>\n",
       "    </tr>\n",
       "    <tr>\n",
       "      <th>2</th>\n",
       "      <td>São Vicente</td>\n",
       "      <td>3551009</td>\n",
       "      <td>44.0</td>\n",
       "      <td>FEMININO</td>\n",
       "      <td>CONFIRMADO</td>\n",
       "      <td>2020-05-31 00:00:00+00:00</td>\n",
       "      <td>0</td>\n",
       "      <td>IGNORADO</td>\n",
       "      <td>IGNORADO</td>\n",
       "      <td>IGNORADO</td>\n",
       "      <td>...</td>\n",
       "      <td>IGNORADO</td>\n",
       "      <td>IGNORADO</td>\n",
       "      <td>IGNORADO</td>\n",
       "      <td>IGNORADO</td>\n",
       "      <td>IGNORADO</td>\n",
       "      <td>IGNORADO</td>\n",
       "      <td>1</td>\n",
       "      <td>False</td>\n",
       "      <td>False</td>\n",
       "      <td>False</td>\n",
       "    </tr>\n",
       "    <tr>\n",
       "      <th>3</th>\n",
       "      <td>São Vicente</td>\n",
       "      <td>3551009</td>\n",
       "      <td>70.0</td>\n",
       "      <td>FEMININO</td>\n",
       "      <td>CONFIRMADO</td>\n",
       "      <td>2020-05-31 00:00:00+00:00</td>\n",
       "      <td>1</td>\n",
       "      <td>IGNORADO</td>\n",
       "      <td>IGNORADO</td>\n",
       "      <td>IGNORADO</td>\n",
       "      <td>...</td>\n",
       "      <td>IGNORADO</td>\n",
       "      <td>IGNORADO</td>\n",
       "      <td>IGNORADO</td>\n",
       "      <td>IGNORADO</td>\n",
       "      <td>IGNORADO</td>\n",
       "      <td>IGNORADO</td>\n",
       "      <td>1</td>\n",
       "      <td>False</td>\n",
       "      <td>False</td>\n",
       "      <td>False</td>\n",
       "    </tr>\n",
       "    <tr>\n",
       "      <th>4</th>\n",
       "      <td>São Vicente</td>\n",
       "      <td>3551009</td>\n",
       "      <td>21.0</td>\n",
       "      <td>FEMININO</td>\n",
       "      <td>CONFIRMADO</td>\n",
       "      <td>2020-05-31 00:00:00+00:00</td>\n",
       "      <td>0</td>\n",
       "      <td>IGNORADO</td>\n",
       "      <td>IGNORADO</td>\n",
       "      <td>IGNORADO</td>\n",
       "      <td>...</td>\n",
       "      <td>IGNORADO</td>\n",
       "      <td>IGNORADO</td>\n",
       "      <td>IGNORADO</td>\n",
       "      <td>IGNORADO</td>\n",
       "      <td>IGNORADO</td>\n",
       "      <td>IGNORADO</td>\n",
       "      <td>1</td>\n",
       "      <td>False</td>\n",
       "      <td>False</td>\n",
       "      <td>False</td>\n",
       "    </tr>\n",
       "  </tbody>\n",
       "</table>\n",
       "<p>5 rows × 24 columns</p>\n",
       "</div>"
      ],
      "text/plain": [
       "    nome_munic  codigo_ibge  idade    cs_sexo diagnostico_covid19  \\\n",
       "0       Suzano      3552502   13.0   FEMININO          CONFIRMADO   \n",
       "1       Suzano      3552502   37.0  MASCULINO          CONFIRMADO   \n",
       "2  São Vicente      3551009   44.0   FEMININO          CONFIRMADO   \n",
       "3  São Vicente      3551009   70.0   FEMININO          CONFIRMADO   \n",
       "4  São Vicente      3551009   21.0   FEMININO          CONFIRMADO   \n",
       "\n",
       "       data_inicio_sintomas  obito      asma cardiopatia  diabetes  ...  \\\n",
       "0 2021-05-24 00:00:00+00:00      0  IGNORADO    IGNORADO  IGNORADO  ...   \n",
       "1 2021-05-24 00:00:00+00:00      0  IGNORADO    IGNORADO  IGNORADO  ...   \n",
       "2 2020-05-31 00:00:00+00:00      0  IGNORADO    IGNORADO  IGNORADO  ...   \n",
       "3 2020-05-31 00:00:00+00:00      1  IGNORADO    IGNORADO  IGNORADO  ...   \n",
       "4 2020-05-31 00:00:00+00:00      0  IGNORADO    IGNORADO  IGNORADO  ...   \n",
       "\n",
       "  imunodepressao obesidade outros_fatores_de_risco pneumopatia  puerpera  \\\n",
       "0       IGNORADO  IGNORADO                IGNORADO    IGNORADO  IGNORADO   \n",
       "1       IGNORADO  IGNORADO                IGNORADO    IGNORADO  IGNORADO   \n",
       "2       IGNORADO  IGNORADO                IGNORADO    IGNORADO  IGNORADO   \n",
       "3       IGNORADO  IGNORADO                IGNORADO    IGNORADO  IGNORADO   \n",
       "4       IGNORADO  IGNORADO                IGNORADO    IGNORADO  IGNORADO   \n",
       "\n",
       "  sindrome_de_down contador puerpera_sim puerpera_nao puerpera_obito  \n",
       "0         IGNORADO        1        False        False          False  \n",
       "1         IGNORADO        1        False        False          False  \n",
       "2         IGNORADO        1        False        False          False  \n",
       "3         IGNORADO        1        False        False          False  \n",
       "4         IGNORADO        1        False        False          False  \n",
       "\n",
       "[5 rows x 24 columns]"
      ]
     },
     "execution_count": 80,
     "metadata": {},
     "output_type": "execute_result"
    }
   ],
   "source": [
    "data = pd.read_csv(\"casos_obitos_doencas_preexistentes.csv\", sep=\";\", parse_dates=[\"data_inicio_sintomas\"])\n",
    "data[\"contador\"] = 1\n",
    "data[\"puerpera_sim\"] = data[\"puerpera\"]==\"SIM\"\n",
    "data[\"puerpera_nao\"] = data[\"puerpera\"]==\"NÃO\"\n",
    "data[\"puerpera_obito\"] = data[\"puerpera_sim\"] & (data[\"obito\"]==1)\n",
    "data.head()"
   ]
  },
  {
   "cell_type": "code",
   "execution_count": 81,
   "id": "3473f8f7",
   "metadata": {},
   "outputs": [
    {
     "data": {
      "text/plain": [
       "IGNORADO    4284399\n",
       "NÃO          187516\n",
       "SIM            1275\n",
       "Name: puerpera, dtype: int64"
      ]
     },
     "execution_count": 81,
     "metadata": {},
     "output_type": "execute_result"
    }
   ],
   "source": [
    "data[\"puerpera\"].value_counts()"
   ]
  },
  {
   "cell_type": "code",
   "execution_count": 82,
   "id": "2c2d4ee1",
   "metadata": {},
   "outputs": [
    {
     "name": "stderr",
     "output_type": "stream",
     "text": [
      "c:\\users\\guilherme\\.venv\\covid\\lib\\site-packages\\ipykernel_launcher.py:1: FutureWarning: Treating datetime data as categorical rather than numeric in `.describe` is deprecated and will be removed in a future version of pandas. Specify `datetime_is_numeric=True` to silence this warning and adopt the future behavior now.\n",
      "  \"\"\"Entry point for launching an IPython kernel.\n"
     ]
    },
    {
     "data": {
      "text/plain": [
       "count                       4420888\n",
       "unique                          705\n",
       "top       2021-03-15 00:00:00+00:00\n",
       "freq                          24358\n",
       "first     2020-02-04 00:00:00+00:00\n",
       "last      2022-01-08 00:00:00+00:00\n",
       "Name: data_inicio_sintomas, dtype: object"
      ]
     },
     "execution_count": 82,
     "metadata": {},
     "output_type": "execute_result"
    }
   ],
   "source": [
    "data[\"data_inicio_sintomas\"].describe()"
   ]
  },
  {
   "cell_type": "code",
   "execution_count": 83,
   "id": "7b7044f5",
   "metadata": {},
   "outputs": [
    {
     "data": {
      "text/plain": [
       "(4473190, 24)"
      ]
     },
     "metadata": {},
     "output_type": "display_data"
    },
    {
     "name": "stdout",
     "output_type": "stream",
     "text": [
      "<class 'pandas.core.frame.DataFrame'>\n",
      "RangeIndex: 4473190 entries, 0 to 4473189\n",
      "Data columns (total 24 columns):\n",
      " #   Column                   Dtype              \n",
      "---  ------                   -----              \n",
      " 0   nome_munic               object             \n",
      " 1   codigo_ibge              int64              \n",
      " 2   idade                    float64            \n",
      " 3   cs_sexo                  object             \n",
      " 4   diagnostico_covid19      object             \n",
      " 5   data_inicio_sintomas     datetime64[ns, UTC]\n",
      " 6   obito                    int64              \n",
      " 7   asma                     object             \n",
      " 8   cardiopatia              object             \n",
      " 9   diabetes                 object             \n",
      " 10  doenca_hematologica      object             \n",
      " 11  doenca_hepatica          object             \n",
      " 12  doenca_neurologica       object             \n",
      " 13  doenca_renal             object             \n",
      " 14  imunodepressao           object             \n",
      " 15  obesidade                object             \n",
      " 16  outros_fatores_de_risco  object             \n",
      " 17  pneumopatia              object             \n",
      " 18  puerpera                 object             \n",
      " 19  sindrome_de_down         object             \n",
      " 20  contador                 int64              \n",
      " 21  puerpera_sim             bool               \n",
      " 22  puerpera_nao             bool               \n",
      " 23  puerpera_obito           bool               \n",
      "dtypes: bool(3), datetime64[ns, UTC](1), float64(1), int64(3), object(16)\n",
      "memory usage: 729.5+ MB\n"
     ]
    },
    {
     "data": {
      "text/plain": [
       "None"
      ]
     },
     "metadata": {},
     "output_type": "display_data"
    }
   ],
   "source": [
    "display(data.shape)\n",
    "display(data.info())"
   ]
  },
  {
   "cell_type": "code",
   "execution_count": 84,
   "id": "95c17afb",
   "metadata": {},
   "outputs": [
    {
     "data": {
      "text/plain": [
       "(4404316, 24)"
      ]
     },
     "execution_count": 84,
     "metadata": {},
     "output_type": "execute_result"
    }
   ],
   "source": [
    "data = data[data[\"data_inicio_sintomas\"] < '2021-12-08']\n",
    "data.shape"
   ]
  },
  {
   "cell_type": "code",
   "execution_count": 85,
   "id": "0c087499",
   "metadata": {},
   "outputs": [
    {
     "data": {
      "text/plain": [
       "True     4373739\n",
       "False      30577\n",
       "Name: antes_de_vacina, dtype: int64"
      ]
     },
     "execution_count": 85,
     "metadata": {},
     "output_type": "execute_result"
    }
   ],
   "source": [
    "data[\"antes_de_vacina\"] = data[\"data_inicio_sintomas\"] < \"2021-10-01\"\n",
    "data[\"antes_de_vacina\"].value_counts()"
   ]
  },
  {
   "cell_type": "code",
   "execution_count": 86,
   "id": "02e0df41",
   "metadata": {},
   "outputs": [
    {
     "data": {
      "text/html": [
       "<div>\n",
       "<style scoped>\n",
       "    .dataframe tbody tr th:only-of-type {\n",
       "        vertical-align: middle;\n",
       "    }\n",
       "\n",
       "    .dataframe tbody tr th {\n",
       "        vertical-align: top;\n",
       "    }\n",
       "\n",
       "    .dataframe thead th {\n",
       "        text-align: right;\n",
       "    }\n",
       "</style>\n",
       "<table border=\"1\" class=\"dataframe\">\n",
       "  <thead>\n",
       "    <tr style=\"text-align: right;\">\n",
       "      <th></th>\n",
       "      <th>nome_munic</th>\n",
       "      <th>codigo_ibge</th>\n",
       "      <th>idade</th>\n",
       "      <th>cs_sexo</th>\n",
       "      <th>diagnostico_covid19</th>\n",
       "      <th>data_inicio_sintomas</th>\n",
       "      <th>obito</th>\n",
       "      <th>asma</th>\n",
       "      <th>cardiopatia</th>\n",
       "      <th>diabetes</th>\n",
       "      <th>...</th>\n",
       "      <th>obesidade</th>\n",
       "      <th>outros_fatores_de_risco</th>\n",
       "      <th>pneumopatia</th>\n",
       "      <th>puerpera</th>\n",
       "      <th>sindrome_de_down</th>\n",
       "      <th>contador</th>\n",
       "      <th>puerpera_sim</th>\n",
       "      <th>puerpera_nao</th>\n",
       "      <th>puerpera_obito</th>\n",
       "      <th>antes_de_vacina</th>\n",
       "    </tr>\n",
       "  </thead>\n",
       "  <tbody>\n",
       "    <tr>\n",
       "      <th>867</th>\n",
       "      <td>Suzano</td>\n",
       "      <td>3552502</td>\n",
       "      <td>52.0</td>\n",
       "      <td>MASCULINO</td>\n",
       "      <td>CONFIRMADO</td>\n",
       "      <td>2021-11-02 00:00:00+00:00</td>\n",
       "      <td>0</td>\n",
       "      <td>NÃO</td>\n",
       "      <td>SIM</td>\n",
       "      <td>SIM</td>\n",
       "      <td>...</td>\n",
       "      <td>IGNORADO</td>\n",
       "      <td>IGNORADO</td>\n",
       "      <td>NÃO</td>\n",
       "      <td>NÃO</td>\n",
       "      <td>NÃO</td>\n",
       "      <td>1</td>\n",
       "      <td>False</td>\n",
       "      <td>True</td>\n",
       "      <td>False</td>\n",
       "      <td>False</td>\n",
       "    </tr>\n",
       "    <tr>\n",
       "      <th>868</th>\n",
       "      <td>Suzano</td>\n",
       "      <td>3552502</td>\n",
       "      <td>67.0</td>\n",
       "      <td>MASCULINO</td>\n",
       "      <td>CONFIRMADO</td>\n",
       "      <td>2021-11-13 00:00:00+00:00</td>\n",
       "      <td>0</td>\n",
       "      <td>IGNORADO</td>\n",
       "      <td>IGNORADO</td>\n",
       "      <td>IGNORADO</td>\n",
       "      <td>...</td>\n",
       "      <td>IGNORADO</td>\n",
       "      <td>IGNORADO</td>\n",
       "      <td>IGNORADO</td>\n",
       "      <td>IGNORADO</td>\n",
       "      <td>IGNORADO</td>\n",
       "      <td>1</td>\n",
       "      <td>False</td>\n",
       "      <td>False</td>\n",
       "      <td>False</td>\n",
       "      <td>False</td>\n",
       "    </tr>\n",
       "    <tr>\n",
       "      <th>869</th>\n",
       "      <td>Suzano</td>\n",
       "      <td>3552502</td>\n",
       "      <td>35.0</td>\n",
       "      <td>FEMININO</td>\n",
       "      <td>CONFIRMADO</td>\n",
       "      <td>2021-11-13 00:00:00+00:00</td>\n",
       "      <td>0</td>\n",
       "      <td>IGNORADO</td>\n",
       "      <td>IGNORADO</td>\n",
       "      <td>IGNORADO</td>\n",
       "      <td>...</td>\n",
       "      <td>IGNORADO</td>\n",
       "      <td>SIM</td>\n",
       "      <td>IGNORADO</td>\n",
       "      <td>IGNORADO</td>\n",
       "      <td>IGNORADO</td>\n",
       "      <td>1</td>\n",
       "      <td>False</td>\n",
       "      <td>False</td>\n",
       "      <td>False</td>\n",
       "      <td>False</td>\n",
       "    </tr>\n",
       "    <tr>\n",
       "      <th>870</th>\n",
       "      <td>Suzano</td>\n",
       "      <td>3552502</td>\n",
       "      <td>62.0</td>\n",
       "      <td>MASCULINO</td>\n",
       "      <td>CONFIRMADO</td>\n",
       "      <td>2021-11-16 00:00:00+00:00</td>\n",
       "      <td>0</td>\n",
       "      <td>IGNORADO</td>\n",
       "      <td>IGNORADO</td>\n",
       "      <td>SIM</td>\n",
       "      <td>...</td>\n",
       "      <td>IGNORADO</td>\n",
       "      <td>SIM</td>\n",
       "      <td>IGNORADO</td>\n",
       "      <td>IGNORADO</td>\n",
       "      <td>IGNORADO</td>\n",
       "      <td>1</td>\n",
       "      <td>False</td>\n",
       "      <td>False</td>\n",
       "      <td>False</td>\n",
       "      <td>False</td>\n",
       "    </tr>\n",
       "    <tr>\n",
       "      <th>891</th>\n",
       "      <td>Suzano</td>\n",
       "      <td>3552502</td>\n",
       "      <td>45.0</td>\n",
       "      <td>MASCULINO</td>\n",
       "      <td>CONFIRMADO</td>\n",
       "      <td>2021-10-25 00:00:00+00:00</td>\n",
       "      <td>0</td>\n",
       "      <td>IGNORADO</td>\n",
       "      <td>IGNORADO</td>\n",
       "      <td>IGNORADO</td>\n",
       "      <td>...</td>\n",
       "      <td>IGNORADO</td>\n",
       "      <td>IGNORADO</td>\n",
       "      <td>IGNORADO</td>\n",
       "      <td>IGNORADO</td>\n",
       "      <td>IGNORADO</td>\n",
       "      <td>1</td>\n",
       "      <td>False</td>\n",
       "      <td>False</td>\n",
       "      <td>False</td>\n",
       "      <td>False</td>\n",
       "    </tr>\n",
       "  </tbody>\n",
       "</table>\n",
       "<p>5 rows × 25 columns</p>\n",
       "</div>"
      ],
      "text/plain": [
       "    nome_munic  codigo_ibge  idade    cs_sexo diagnostico_covid19  \\\n",
       "867     Suzano      3552502   52.0  MASCULINO          CONFIRMADO   \n",
       "868     Suzano      3552502   67.0  MASCULINO          CONFIRMADO   \n",
       "869     Suzano      3552502   35.0   FEMININO          CONFIRMADO   \n",
       "870     Suzano      3552502   62.0  MASCULINO          CONFIRMADO   \n",
       "891     Suzano      3552502   45.0  MASCULINO          CONFIRMADO   \n",
       "\n",
       "         data_inicio_sintomas  obito      asma cardiopatia  diabetes  ...  \\\n",
       "867 2021-11-02 00:00:00+00:00      0       NÃO         SIM       SIM  ...   \n",
       "868 2021-11-13 00:00:00+00:00      0  IGNORADO    IGNORADO  IGNORADO  ...   \n",
       "869 2021-11-13 00:00:00+00:00      0  IGNORADO    IGNORADO  IGNORADO  ...   \n",
       "870 2021-11-16 00:00:00+00:00      0  IGNORADO    IGNORADO       SIM  ...   \n",
       "891 2021-10-25 00:00:00+00:00      0  IGNORADO    IGNORADO  IGNORADO  ...   \n",
       "\n",
       "    obesidade outros_fatores_de_risco pneumopatia  puerpera sindrome_de_down  \\\n",
       "867  IGNORADO                IGNORADO         NÃO       NÃO              NÃO   \n",
       "868  IGNORADO                IGNORADO    IGNORADO  IGNORADO         IGNORADO   \n",
       "869  IGNORADO                     SIM    IGNORADO  IGNORADO         IGNORADO   \n",
       "870  IGNORADO                     SIM    IGNORADO  IGNORADO         IGNORADO   \n",
       "891  IGNORADO                IGNORADO    IGNORADO  IGNORADO         IGNORADO   \n",
       "\n",
       "    contador puerpera_sim puerpera_nao puerpera_obito antes_de_vacina  \n",
       "867        1        False         True          False           False  \n",
       "868        1        False        False          False           False  \n",
       "869        1        False        False          False           False  \n",
       "870        1        False        False          False           False  \n",
       "891        1        False        False          False           False  \n",
       "\n",
       "[5 rows x 25 columns]"
      ]
     },
     "execution_count": 86,
     "metadata": {},
     "output_type": "execute_result"
    }
   ],
   "source": [
    "data.query(\"antes_de_vacina==False\").head()"
   ]
  },
  {
   "cell_type": "code",
   "execution_count": 87,
   "id": "71560f60",
   "metadata": {},
   "outputs": [
    {
     "data": {
      "text/plain": [
       "IGNORADO    4216020\n",
       "NÃO          187032\n",
       "SIM            1264\n",
       "Name: puerpera, dtype: int64"
      ]
     },
     "execution_count": 87,
     "metadata": {},
     "output_type": "execute_result"
    }
   ],
   "source": [
    "data[\"puerpera\"].value_counts()"
   ]
  },
  {
   "cell_type": "code",
   "execution_count": 88,
   "id": "2aaa0eb8",
   "metadata": {},
   "outputs": [
    {
     "data": {
      "text/plain": [
       "False    4403052\n",
       "True        1264\n",
       "Name: puerpera_sim, dtype: int64"
      ]
     },
     "execution_count": 88,
     "metadata": {},
     "output_type": "execute_result"
    }
   ],
   "source": [
    "data[\"puerpera_sim\"].value_counts()"
   ]
  },
  {
   "cell_type": "code",
   "execution_count": 89,
   "id": "92735c2d",
   "metadata": {},
   "outputs": [
    {
     "data": {
      "text/plain": [
       "False    4217284\n",
       "True      187032\n",
       "Name: puerpera_nao, dtype: int64"
      ]
     },
     "execution_count": 89,
     "metadata": {},
     "output_type": "execute_result"
    }
   ],
   "source": [
    "data[\"puerpera_nao\"].value_counts()"
   ]
  },
  {
   "cell_type": "code",
   "execution_count": 90,
   "id": "5f338b5b",
   "metadata": {},
   "outputs": [
    {
     "data": {
      "text/plain": [
       "CONFIRMADO    4404316\n",
       "Name: diagnostico_covid19, dtype: int64"
      ]
     },
     "execution_count": 90,
     "metadata": {},
     "output_type": "execute_result"
    }
   ],
   "source": [
    "data[\"diagnostico_covid19\"].value_counts()"
   ]
  },
  {
   "cell_type": "code",
   "execution_count": 91,
   "id": "ecf44806",
   "metadata": {},
   "outputs": [
    {
     "data": {
      "text/plain": [
       "FEMININO      2340285\n",
       "MASCULINO     2063225\n",
       "INDEFINIDO        777\n",
       "IGNORADO           28\n",
       "Name: cs_sexo, dtype: int64"
      ]
     },
     "execution_count": 91,
     "metadata": {},
     "output_type": "execute_result"
    }
   ],
   "source": [
    "data[\"cs_sexo\"].value_counts()"
   ]
  },
  {
   "cell_type": "code",
   "execution_count": 92,
   "id": "e81c9242",
   "metadata": {},
   "outputs": [
    {
     "data": {
      "text/plain": [
       "(1264, 25)"
      ]
     },
     "metadata": {},
     "output_type": "display_data"
    },
    {
     "data": {
      "text/plain": [
       "(88162, 25)"
      ]
     },
     "metadata": {},
     "output_type": "display_data"
    },
    {
     "data": {
      "text/plain": [
       "(2340285, 25)"
      ]
     },
     "metadata": {},
     "output_type": "display_data"
    }
   ],
   "source": [
    "puerpera = data.query(\"puerpera_sim == True\") # faz sentido cs_sexo==FEMININO?\n",
    "nao_puerpera = data.query(\"puerpera_nao == True and cs_sexo=='FEMININO'\")\n",
    "feminino = data.query(\"cs_sexo == 'FEMININO'\")\n",
    "display(puerpera.shape, nao_puerpera.shape, feminino.shape)"
   ]
  },
  {
   "cell_type": "code",
   "execution_count": 93,
   "id": "72efd2ed",
   "metadata": {},
   "outputs": [
    {
     "data": {
      "text/html": [
       "<div>\n",
       "<style scoped>\n",
       "    .dataframe tbody tr th:only-of-type {\n",
       "        vertical-align: middle;\n",
       "    }\n",
       "\n",
       "    .dataframe tbody tr th {\n",
       "        vertical-align: top;\n",
       "    }\n",
       "\n",
       "    .dataframe thead th {\n",
       "        text-align: right;\n",
       "    }\n",
       "</style>\n",
       "<table border=\"1\" class=\"dataframe\">\n",
       "  <thead>\n",
       "    <tr style=\"text-align: right;\">\n",
       "      <th></th>\n",
       "      <th>nome_munic</th>\n",
       "      <th>codigo_ibge</th>\n",
       "      <th>idade</th>\n",
       "      <th>cs_sexo</th>\n",
       "      <th>diagnostico_covid19</th>\n",
       "      <th>data_inicio_sintomas</th>\n",
       "      <th>obito</th>\n",
       "      <th>asma</th>\n",
       "      <th>cardiopatia</th>\n",
       "      <th>diabetes</th>\n",
       "      <th>...</th>\n",
       "      <th>obesidade</th>\n",
       "      <th>outros_fatores_de_risco</th>\n",
       "      <th>pneumopatia</th>\n",
       "      <th>puerpera</th>\n",
       "      <th>sindrome_de_down</th>\n",
       "      <th>contador</th>\n",
       "      <th>puerpera_sim</th>\n",
       "      <th>puerpera_nao</th>\n",
       "      <th>puerpera_obito</th>\n",
       "      <th>antes_de_vacina</th>\n",
       "    </tr>\n",
       "  </thead>\n",
       "  <tbody>\n",
       "    <tr>\n",
       "      <th>0</th>\n",
       "      <td>Suzano</td>\n",
       "      <td>3552502</td>\n",
       "      <td>13.0</td>\n",
       "      <td>FEMININO</td>\n",
       "      <td>CONFIRMADO</td>\n",
       "      <td>2021-05-24 00:00:00+00:00</td>\n",
       "      <td>0</td>\n",
       "      <td>IGNORADO</td>\n",
       "      <td>IGNORADO</td>\n",
       "      <td>IGNORADO</td>\n",
       "      <td>...</td>\n",
       "      <td>IGNORADO</td>\n",
       "      <td>IGNORADO</td>\n",
       "      <td>IGNORADO</td>\n",
       "      <td>IGNORADO</td>\n",
       "      <td>IGNORADO</td>\n",
       "      <td>1</td>\n",
       "      <td>False</td>\n",
       "      <td>False</td>\n",
       "      <td>False</td>\n",
       "      <td>True</td>\n",
       "    </tr>\n",
       "    <tr>\n",
       "      <th>2</th>\n",
       "      <td>São Vicente</td>\n",
       "      <td>3551009</td>\n",
       "      <td>44.0</td>\n",
       "      <td>FEMININO</td>\n",
       "      <td>CONFIRMADO</td>\n",
       "      <td>2020-05-31 00:00:00+00:00</td>\n",
       "      <td>0</td>\n",
       "      <td>IGNORADO</td>\n",
       "      <td>IGNORADO</td>\n",
       "      <td>IGNORADO</td>\n",
       "      <td>...</td>\n",
       "      <td>IGNORADO</td>\n",
       "      <td>IGNORADO</td>\n",
       "      <td>IGNORADO</td>\n",
       "      <td>IGNORADO</td>\n",
       "      <td>IGNORADO</td>\n",
       "      <td>1</td>\n",
       "      <td>False</td>\n",
       "      <td>False</td>\n",
       "      <td>False</td>\n",
       "      <td>True</td>\n",
       "    </tr>\n",
       "    <tr>\n",
       "      <th>3</th>\n",
       "      <td>São Vicente</td>\n",
       "      <td>3551009</td>\n",
       "      <td>70.0</td>\n",
       "      <td>FEMININO</td>\n",
       "      <td>CONFIRMADO</td>\n",
       "      <td>2020-05-31 00:00:00+00:00</td>\n",
       "      <td>1</td>\n",
       "      <td>IGNORADO</td>\n",
       "      <td>IGNORADO</td>\n",
       "      <td>IGNORADO</td>\n",
       "      <td>...</td>\n",
       "      <td>IGNORADO</td>\n",
       "      <td>IGNORADO</td>\n",
       "      <td>IGNORADO</td>\n",
       "      <td>IGNORADO</td>\n",
       "      <td>IGNORADO</td>\n",
       "      <td>1</td>\n",
       "      <td>False</td>\n",
       "      <td>False</td>\n",
       "      <td>False</td>\n",
       "      <td>True</td>\n",
       "    </tr>\n",
       "    <tr>\n",
       "      <th>4</th>\n",
       "      <td>São Vicente</td>\n",
       "      <td>3551009</td>\n",
       "      <td>21.0</td>\n",
       "      <td>FEMININO</td>\n",
       "      <td>CONFIRMADO</td>\n",
       "      <td>2020-05-31 00:00:00+00:00</td>\n",
       "      <td>0</td>\n",
       "      <td>IGNORADO</td>\n",
       "      <td>IGNORADO</td>\n",
       "      <td>IGNORADO</td>\n",
       "      <td>...</td>\n",
       "      <td>IGNORADO</td>\n",
       "      <td>IGNORADO</td>\n",
       "      <td>IGNORADO</td>\n",
       "      <td>IGNORADO</td>\n",
       "      <td>IGNORADO</td>\n",
       "      <td>1</td>\n",
       "      <td>False</td>\n",
       "      <td>False</td>\n",
       "      <td>False</td>\n",
       "      <td>True</td>\n",
       "    </tr>\n",
       "    <tr>\n",
       "      <th>6</th>\n",
       "      <td>Taubaté</td>\n",
       "      <td>3554102</td>\n",
       "      <td>38.0</td>\n",
       "      <td>FEMININO</td>\n",
       "      <td>CONFIRMADO</td>\n",
       "      <td>2021-05-19 00:00:00+00:00</td>\n",
       "      <td>0</td>\n",
       "      <td>IGNORADO</td>\n",
       "      <td>IGNORADO</td>\n",
       "      <td>IGNORADO</td>\n",
       "      <td>...</td>\n",
       "      <td>IGNORADO</td>\n",
       "      <td>IGNORADO</td>\n",
       "      <td>IGNORADO</td>\n",
       "      <td>IGNORADO</td>\n",
       "      <td>IGNORADO</td>\n",
       "      <td>1</td>\n",
       "      <td>False</td>\n",
       "      <td>False</td>\n",
       "      <td>False</td>\n",
       "      <td>True</td>\n",
       "    </tr>\n",
       "  </tbody>\n",
       "</table>\n",
       "<p>5 rows × 25 columns</p>\n",
       "</div>"
      ],
      "text/plain": [
       "    nome_munic  codigo_ibge  idade   cs_sexo diagnostico_covid19  \\\n",
       "0       Suzano      3552502   13.0  FEMININO          CONFIRMADO   \n",
       "2  São Vicente      3551009   44.0  FEMININO          CONFIRMADO   \n",
       "3  São Vicente      3551009   70.0  FEMININO          CONFIRMADO   \n",
       "4  São Vicente      3551009   21.0  FEMININO          CONFIRMADO   \n",
       "6      Taubaté      3554102   38.0  FEMININO          CONFIRMADO   \n",
       "\n",
       "       data_inicio_sintomas  obito      asma cardiopatia  diabetes  ...  \\\n",
       "0 2021-05-24 00:00:00+00:00      0  IGNORADO    IGNORADO  IGNORADO  ...   \n",
       "2 2020-05-31 00:00:00+00:00      0  IGNORADO    IGNORADO  IGNORADO  ...   \n",
       "3 2020-05-31 00:00:00+00:00      1  IGNORADO    IGNORADO  IGNORADO  ...   \n",
       "4 2020-05-31 00:00:00+00:00      0  IGNORADO    IGNORADO  IGNORADO  ...   \n",
       "6 2021-05-19 00:00:00+00:00      0  IGNORADO    IGNORADO  IGNORADO  ...   \n",
       "\n",
       "  obesidade outros_fatores_de_risco pneumopatia  puerpera sindrome_de_down  \\\n",
       "0  IGNORADO                IGNORADO    IGNORADO  IGNORADO         IGNORADO   \n",
       "2  IGNORADO                IGNORADO    IGNORADO  IGNORADO         IGNORADO   \n",
       "3  IGNORADO                IGNORADO    IGNORADO  IGNORADO         IGNORADO   \n",
       "4  IGNORADO                IGNORADO    IGNORADO  IGNORADO         IGNORADO   \n",
       "6  IGNORADO                IGNORADO    IGNORADO  IGNORADO         IGNORADO   \n",
       "\n",
       "  contador puerpera_sim puerpera_nao puerpera_obito antes_de_vacina  \n",
       "0        1        False        False          False            True  \n",
       "2        1        False        False          False            True  \n",
       "3        1        False        False          False            True  \n",
       "4        1        False        False          False            True  \n",
       "6        1        False        False          False            True  \n",
       "\n",
       "[5 rows x 25 columns]"
      ]
     },
     "execution_count": 93,
     "metadata": {},
     "output_type": "execute_result"
    }
   ],
   "source": [
    "feminino.head()"
   ]
  },
  {
   "cell_type": "code",
   "execution_count": 94,
   "id": "0fb9f8d9",
   "metadata": {},
   "outputs": [
    {
     "data": {
      "text/html": [
       "<div>\n",
       "<style scoped>\n",
       "    .dataframe tbody tr th:only-of-type {\n",
       "        vertical-align: middle;\n",
       "    }\n",
       "\n",
       "    .dataframe tbody tr th {\n",
       "        vertical-align: top;\n",
       "    }\n",
       "\n",
       "    .dataframe thead th {\n",
       "        text-align: right;\n",
       "    }\n",
       "</style>\n",
       "<table border=\"1\" class=\"dataframe\">\n",
       "  <thead>\n",
       "    <tr style=\"text-align: right;\">\n",
       "      <th></th>\n",
       "      <th>nome_munic</th>\n",
       "      <th>codigo_ibge</th>\n",
       "      <th>idade</th>\n",
       "      <th>cs_sexo</th>\n",
       "      <th>diagnostico_covid19</th>\n",
       "      <th>data_inicio_sintomas</th>\n",
       "      <th>obito</th>\n",
       "      <th>asma</th>\n",
       "      <th>cardiopatia</th>\n",
       "      <th>diabetes</th>\n",
       "      <th>...</th>\n",
       "      <th>obesidade</th>\n",
       "      <th>outros_fatores_de_risco</th>\n",
       "      <th>pneumopatia</th>\n",
       "      <th>puerpera</th>\n",
       "      <th>sindrome_de_down</th>\n",
       "      <th>contador</th>\n",
       "      <th>puerpera_sim</th>\n",
       "      <th>puerpera_nao</th>\n",
       "      <th>puerpera_obito</th>\n",
       "      <th>antes_de_vacina</th>\n",
       "    </tr>\n",
       "  </thead>\n",
       "  <tbody>\n",
       "    <tr>\n",
       "      <th>6663</th>\n",
       "      <td>Taubaté</td>\n",
       "      <td>3554102</td>\n",
       "      <td>77.0</td>\n",
       "      <td>MASCULINO</td>\n",
       "      <td>CONFIRMADO</td>\n",
       "      <td>2020-08-18 00:00:00+00:00</td>\n",
       "      <td>1</td>\n",
       "      <td>NÃO</td>\n",
       "      <td>NÃO</td>\n",
       "      <td>SIM</td>\n",
       "      <td>...</td>\n",
       "      <td>NÃO</td>\n",
       "      <td>NÃO</td>\n",
       "      <td>NÃO</td>\n",
       "      <td>SIM</td>\n",
       "      <td>NÃO</td>\n",
       "      <td>1</td>\n",
       "      <td>True</td>\n",
       "      <td>False</td>\n",
       "      <td>True</td>\n",
       "      <td>True</td>\n",
       "    </tr>\n",
       "    <tr>\n",
       "      <th>9961</th>\n",
       "      <td>São Paulo</td>\n",
       "      <td>3550308</td>\n",
       "      <td>36.0</td>\n",
       "      <td>FEMININO</td>\n",
       "      <td>CONFIRMADO</td>\n",
       "      <td>2021-05-11 00:00:00+00:00</td>\n",
       "      <td>0</td>\n",
       "      <td>NÃO</td>\n",
       "      <td>NÃO</td>\n",
       "      <td>NÃO</td>\n",
       "      <td>...</td>\n",
       "      <td>NÃO</td>\n",
       "      <td>SIM</td>\n",
       "      <td>NÃO</td>\n",
       "      <td>SIM</td>\n",
       "      <td>NÃO</td>\n",
       "      <td>1</td>\n",
       "      <td>True</td>\n",
       "      <td>False</td>\n",
       "      <td>False</td>\n",
       "      <td>True</td>\n",
       "    </tr>\n",
       "    <tr>\n",
       "      <th>14219</th>\n",
       "      <td>Taubaté</td>\n",
       "      <td>3554102</td>\n",
       "      <td>28.0</td>\n",
       "      <td>FEMININO</td>\n",
       "      <td>CONFIRMADO</td>\n",
       "      <td>2021-07-10 00:00:00+00:00</td>\n",
       "      <td>0</td>\n",
       "      <td>NÃO</td>\n",
       "      <td>NÃO</td>\n",
       "      <td>NÃO</td>\n",
       "      <td>...</td>\n",
       "      <td>NÃO</td>\n",
       "      <td>NÃO</td>\n",
       "      <td>NÃO</td>\n",
       "      <td>SIM</td>\n",
       "      <td>NÃO</td>\n",
       "      <td>1</td>\n",
       "      <td>True</td>\n",
       "      <td>False</td>\n",
       "      <td>False</td>\n",
       "      <td>True</td>\n",
       "    </tr>\n",
       "    <tr>\n",
       "      <th>22043</th>\n",
       "      <td>Valinhos</td>\n",
       "      <td>3556206</td>\n",
       "      <td>65.0</td>\n",
       "      <td>MASCULINO</td>\n",
       "      <td>CONFIRMADO</td>\n",
       "      <td>2021-01-31 00:00:00+00:00</td>\n",
       "      <td>1</td>\n",
       "      <td>IGNORADO</td>\n",
       "      <td>IGNORADO</td>\n",
       "      <td>IGNORADO</td>\n",
       "      <td>...</td>\n",
       "      <td>IGNORADO</td>\n",
       "      <td>SIM</td>\n",
       "      <td>IGNORADO</td>\n",
       "      <td>SIM</td>\n",
       "      <td>IGNORADO</td>\n",
       "      <td>1</td>\n",
       "      <td>True</td>\n",
       "      <td>False</td>\n",
       "      <td>True</td>\n",
       "      <td>True</td>\n",
       "    </tr>\n",
       "    <tr>\n",
       "      <th>26635</th>\n",
       "      <td>Tabapuã</td>\n",
       "      <td>3552601</td>\n",
       "      <td>36.0</td>\n",
       "      <td>FEMININO</td>\n",
       "      <td>CONFIRMADO</td>\n",
       "      <td>2021-05-11 00:00:00+00:00</td>\n",
       "      <td>1</td>\n",
       "      <td>NÃO</td>\n",
       "      <td>SIM</td>\n",
       "      <td>NÃO</td>\n",
       "      <td>...</td>\n",
       "      <td>NÃO</td>\n",
       "      <td>NÃO</td>\n",
       "      <td>NÃO</td>\n",
       "      <td>SIM</td>\n",
       "      <td>NÃO</td>\n",
       "      <td>1</td>\n",
       "      <td>True</td>\n",
       "      <td>False</td>\n",
       "      <td>True</td>\n",
       "      <td>True</td>\n",
       "    </tr>\n",
       "  </tbody>\n",
       "</table>\n",
       "<p>5 rows × 25 columns</p>\n",
       "</div>"
      ],
      "text/plain": [
       "      nome_munic  codigo_ibge  idade    cs_sexo diagnostico_covid19  \\\n",
       "6663     Taubaté      3554102   77.0  MASCULINO          CONFIRMADO   \n",
       "9961   São Paulo      3550308   36.0   FEMININO          CONFIRMADO   \n",
       "14219    Taubaté      3554102   28.0   FEMININO          CONFIRMADO   \n",
       "22043   Valinhos      3556206   65.0  MASCULINO          CONFIRMADO   \n",
       "26635    Tabapuã      3552601   36.0   FEMININO          CONFIRMADO   \n",
       "\n",
       "           data_inicio_sintomas  obito      asma cardiopatia  diabetes  ...  \\\n",
       "6663  2020-08-18 00:00:00+00:00      1       NÃO         NÃO       SIM  ...   \n",
       "9961  2021-05-11 00:00:00+00:00      0       NÃO         NÃO       NÃO  ...   \n",
       "14219 2021-07-10 00:00:00+00:00      0       NÃO         NÃO       NÃO  ...   \n",
       "22043 2021-01-31 00:00:00+00:00      1  IGNORADO    IGNORADO  IGNORADO  ...   \n",
       "26635 2021-05-11 00:00:00+00:00      1       NÃO         SIM       NÃO  ...   \n",
       "\n",
       "      obesidade outros_fatores_de_risco pneumopatia puerpera sindrome_de_down  \\\n",
       "6663        NÃO                     NÃO         NÃO      SIM              NÃO   \n",
       "9961        NÃO                     SIM         NÃO      SIM              NÃO   \n",
       "14219       NÃO                     NÃO         NÃO      SIM              NÃO   \n",
       "22043  IGNORADO                     SIM    IGNORADO      SIM         IGNORADO   \n",
       "26635       NÃO                     NÃO         NÃO      SIM              NÃO   \n",
       "\n",
       "      contador puerpera_sim puerpera_nao puerpera_obito antes_de_vacina  \n",
       "6663         1         True        False           True            True  \n",
       "9961         1         True        False          False            True  \n",
       "14219        1         True        False          False            True  \n",
       "22043        1         True        False           True            True  \n",
       "26635        1         True        False           True            True  \n",
       "\n",
       "[5 rows x 25 columns]"
      ]
     },
     "execution_count": 94,
     "metadata": {},
     "output_type": "execute_result"
    }
   ],
   "source": [
    "puerpera.head()"
   ]
  },
  {
   "cell_type": "code",
   "execution_count": 95,
   "id": "72672d83",
   "metadata": {},
   "outputs": [
    {
     "data": {
      "text/html": [
       "<div>\n",
       "<style scoped>\n",
       "    .dataframe tbody tr th:only-of-type {\n",
       "        vertical-align: middle;\n",
       "    }\n",
       "\n",
       "    .dataframe tbody tr th {\n",
       "        vertical-align: top;\n",
       "    }\n",
       "\n",
       "    .dataframe thead th {\n",
       "        text-align: right;\n",
       "    }\n",
       "</style>\n",
       "<table border=\"1\" class=\"dataframe\">\n",
       "  <thead>\n",
       "    <tr style=\"text-align: right;\">\n",
       "      <th></th>\n",
       "      <th>nome_munic</th>\n",
       "      <th>codigo_ibge</th>\n",
       "      <th>idade</th>\n",
       "      <th>cs_sexo</th>\n",
       "      <th>diagnostico_covid19</th>\n",
       "      <th>data_inicio_sintomas</th>\n",
       "      <th>obito</th>\n",
       "      <th>asma</th>\n",
       "      <th>cardiopatia</th>\n",
       "      <th>diabetes</th>\n",
       "      <th>...</th>\n",
       "      <th>obesidade</th>\n",
       "      <th>outros_fatores_de_risco</th>\n",
       "      <th>pneumopatia</th>\n",
       "      <th>puerpera</th>\n",
       "      <th>sindrome_de_down</th>\n",
       "      <th>contador</th>\n",
       "      <th>puerpera_sim</th>\n",
       "      <th>puerpera_nao</th>\n",
       "      <th>puerpera_obito</th>\n",
       "      <th>antes_de_vacina</th>\n",
       "    </tr>\n",
       "  </thead>\n",
       "  <tbody>\n",
       "    <tr>\n",
       "      <th>47</th>\n",
       "      <td>Taubaté</td>\n",
       "      <td>3554102</td>\n",
       "      <td>63.0</td>\n",
       "      <td>FEMININO</td>\n",
       "      <td>CONFIRMADO</td>\n",
       "      <td>2021-05-19 00:00:00+00:00</td>\n",
       "      <td>1</td>\n",
       "      <td>NÃO</td>\n",
       "      <td>NÃO</td>\n",
       "      <td>NÃO</td>\n",
       "      <td>...</td>\n",
       "      <td>NÃO</td>\n",
       "      <td>NÃO</td>\n",
       "      <td>SIM</td>\n",
       "      <td>NÃO</td>\n",
       "      <td>NÃO</td>\n",
       "      <td>1</td>\n",
       "      <td>False</td>\n",
       "      <td>True</td>\n",
       "      <td>False</td>\n",
       "      <td>True</td>\n",
       "    </tr>\n",
       "    <tr>\n",
       "      <th>56</th>\n",
       "      <td>Taubaté</td>\n",
       "      <td>3554102</td>\n",
       "      <td>74.0</td>\n",
       "      <td>FEMININO</td>\n",
       "      <td>CONFIRMADO</td>\n",
       "      <td>2020-07-20 00:00:00+00:00</td>\n",
       "      <td>1</td>\n",
       "      <td>NÃO</td>\n",
       "      <td>SIM</td>\n",
       "      <td>SIM</td>\n",
       "      <td>...</td>\n",
       "      <td>NÃO</td>\n",
       "      <td>SIM</td>\n",
       "      <td>NÃO</td>\n",
       "      <td>NÃO</td>\n",
       "      <td>NÃO</td>\n",
       "      <td>1</td>\n",
       "      <td>False</td>\n",
       "      <td>True</td>\n",
       "      <td>False</td>\n",
       "      <td>True</td>\n",
       "    </tr>\n",
       "    <tr>\n",
       "      <th>395</th>\n",
       "      <td>Taubaté</td>\n",
       "      <td>3554102</td>\n",
       "      <td>55.0</td>\n",
       "      <td>FEMININO</td>\n",
       "      <td>CONFIRMADO</td>\n",
       "      <td>2021-05-30 00:00:00+00:00</td>\n",
       "      <td>0</td>\n",
       "      <td>NÃO</td>\n",
       "      <td>NÃO</td>\n",
       "      <td>NÃO</td>\n",
       "      <td>...</td>\n",
       "      <td>NÃO</td>\n",
       "      <td>NÃO</td>\n",
       "      <td>NÃO</td>\n",
       "      <td>NÃO</td>\n",
       "      <td>NÃO</td>\n",
       "      <td>1</td>\n",
       "      <td>False</td>\n",
       "      <td>True</td>\n",
       "      <td>False</td>\n",
       "      <td>True</td>\n",
       "    </tr>\n",
       "    <tr>\n",
       "      <th>400</th>\n",
       "      <td>Suzano</td>\n",
       "      <td>3552502</td>\n",
       "      <td>41.0</td>\n",
       "      <td>FEMININO</td>\n",
       "      <td>CONFIRMADO</td>\n",
       "      <td>2021-06-06 00:00:00+00:00</td>\n",
       "      <td>0</td>\n",
       "      <td>NÃO</td>\n",
       "      <td>SIM</td>\n",
       "      <td>NÃO</td>\n",
       "      <td>...</td>\n",
       "      <td>NÃO</td>\n",
       "      <td>NÃO</td>\n",
       "      <td>NÃO</td>\n",
       "      <td>NÃO</td>\n",
       "      <td>NÃO</td>\n",
       "      <td>1</td>\n",
       "      <td>False</td>\n",
       "      <td>True</td>\n",
       "      <td>False</td>\n",
       "      <td>True</td>\n",
       "    </tr>\n",
       "    <tr>\n",
       "      <th>590</th>\n",
       "      <td>Suzano</td>\n",
       "      <td>3552502</td>\n",
       "      <td>37.0</td>\n",
       "      <td>FEMININO</td>\n",
       "      <td>CONFIRMADO</td>\n",
       "      <td>2021-06-24 00:00:00+00:00</td>\n",
       "      <td>0</td>\n",
       "      <td>NÃO</td>\n",
       "      <td>NÃO</td>\n",
       "      <td>NÃO</td>\n",
       "      <td>...</td>\n",
       "      <td>NÃO</td>\n",
       "      <td>SIM</td>\n",
       "      <td>NÃO</td>\n",
       "      <td>NÃO</td>\n",
       "      <td>NÃO</td>\n",
       "      <td>1</td>\n",
       "      <td>False</td>\n",
       "      <td>True</td>\n",
       "      <td>False</td>\n",
       "      <td>True</td>\n",
       "    </tr>\n",
       "  </tbody>\n",
       "</table>\n",
       "<p>5 rows × 25 columns</p>\n",
       "</div>"
      ],
      "text/plain": [
       "    nome_munic  codigo_ibge  idade   cs_sexo diagnostico_covid19  \\\n",
       "47     Taubaté      3554102   63.0  FEMININO          CONFIRMADO   \n",
       "56     Taubaté      3554102   74.0  FEMININO          CONFIRMADO   \n",
       "395    Taubaté      3554102   55.0  FEMININO          CONFIRMADO   \n",
       "400     Suzano      3552502   41.0  FEMININO          CONFIRMADO   \n",
       "590     Suzano      3552502   37.0  FEMININO          CONFIRMADO   \n",
       "\n",
       "         data_inicio_sintomas  obito asma cardiopatia diabetes  ... obesidade  \\\n",
       "47  2021-05-19 00:00:00+00:00      1  NÃO         NÃO      NÃO  ...       NÃO   \n",
       "56  2020-07-20 00:00:00+00:00      1  NÃO         SIM      SIM  ...       NÃO   \n",
       "395 2021-05-30 00:00:00+00:00      0  NÃO         NÃO      NÃO  ...       NÃO   \n",
       "400 2021-06-06 00:00:00+00:00      0  NÃO         SIM      NÃO  ...       NÃO   \n",
       "590 2021-06-24 00:00:00+00:00      0  NÃO         NÃO      NÃO  ...       NÃO   \n",
       "\n",
       "    outros_fatores_de_risco pneumopatia puerpera sindrome_de_down contador  \\\n",
       "47                      NÃO         SIM      NÃO              NÃO        1   \n",
       "56                      SIM         NÃO      NÃO              NÃO        1   \n",
       "395                     NÃO         NÃO      NÃO              NÃO        1   \n",
       "400                     NÃO         NÃO      NÃO              NÃO        1   \n",
       "590                     SIM         NÃO      NÃO              NÃO        1   \n",
       "\n",
       "    puerpera_sim puerpera_nao puerpera_obito antes_de_vacina  \n",
       "47         False         True          False            True  \n",
       "56         False         True          False            True  \n",
       "395        False         True          False            True  \n",
       "400        False         True          False            True  \n",
       "590        False         True          False            True  \n",
       "\n",
       "[5 rows x 25 columns]"
      ]
     },
     "execution_count": 95,
     "metadata": {},
     "output_type": "execute_result"
    }
   ],
   "source": [
    "nao_puerpera.head()"
   ]
  },
  {
   "cell_type": "code",
   "execution_count": 96,
   "id": "d3b45ea7",
   "metadata": {},
   "outputs": [
    {
     "data": {
      "text/plain": [
       "0    4249078\n",
       "1     155238\n",
       "Name: obito, dtype: int64"
      ]
     },
     "execution_count": 96,
     "metadata": {},
     "output_type": "execute_result"
    }
   ],
   "source": [
    "data[\"obito\"].value_counts()"
   ]
  },
  {
   "cell_type": "code",
   "execution_count": 97,
   "id": "712a164b",
   "metadata": {},
   "outputs": [
    {
     "data": {
      "text/plain": [
       "3.5246789739882427"
      ]
     },
     "execution_count": 97,
     "metadata": {},
     "output_type": "execute_result"
    }
   ],
   "source": [
    "data[\"obito\"].mean() * 100"
   ]
  },
  {
   "cell_type": "code",
   "execution_count": 98,
   "id": "2365c63b",
   "metadata": {},
   "outputs": [],
   "source": [
    "def taxa_de_obito(x):\n",
    "    counts = x[\"obito\"].value_counts()\n",
    "    p = counts.loc[1] / (counts.loc[1] + counts.loc[0]) * 100\n",
    "    return counts.loc[1], counts.loc[0] + counts.loc[1], x[\"obito\"].mean() * 100"
   ]
  },
  {
   "cell_type": "code",
   "execution_count": 99,
   "id": "7ec22ec4",
   "metadata": {},
   "outputs": [
    {
     "name": "stdout",
     "output_type": "stream",
     "text": [
      "(31166, 88162, 35.35083142396951)\n",
      "(238, 1264, 18.829113924050635)\n",
      "(67387, 2340285, 2.8794356242936225)\n"
     ]
    }
   ],
   "source": [
    "print(taxa_de_obito(nao_puerpera)) # nao vou poder mais usar pois provavelmente diz algo sobre hospitalizacao ou algo que nao faco ideia\n",
    "print(taxa_de_obito(puerpera))\n",
    "print(taxa_de_obito(feminino))\n"
   ]
  },
  {
   "cell_type": "code",
   "execution_count": 100,
   "id": "93db6b02",
   "metadata": {},
   "outputs": [],
   "source": [
    "def antes_depois(x):\n",
    "    antes = x[x[\"antes_de_vacina\"]]\n",
    "    depois = x[x[\"antes_de_vacina\"] == False]\n",
    "    print(\"antes\", taxa_de_obito(antes))\n",
    "    print(\"depois\", taxa_de_obito(depois))"
   ]
  },
  {
   "cell_type": "code",
   "execution_count": 101,
   "id": "87308623",
   "metadata": {},
   "outputs": [
    {
     "name": "stdout",
     "output_type": "stream",
     "text": [
      "antes (235, 1248, 18.830128205128204)\n",
      "depois (3, 16, 18.75)\n"
     ]
    }
   ],
   "source": [
    "antes_depois(puerpera)"
   ]
  },
  {
   "cell_type": "code",
   "execution_count": 102,
   "id": "591ded08",
   "metadata": {},
   "outputs": [
    {
     "name": "stdout",
     "output_type": "stream",
     "text": [
      "antes (30853, 87127, 35.411525703857585)\n",
      "depois (313, 1035, 30.241545893719806)\n"
     ]
    }
   ],
   "source": [
    "antes_depois(nao_puerpera) # nao consigo analisar"
   ]
  },
  {
   "cell_type": "code",
   "execution_count": 103,
   "id": "6128c24a",
   "metadata": {},
   "outputs": [
    {
     "name": "stdout",
     "output_type": "stream",
     "text": [
      "antes (66664, 2323734, 2.8688309419236453)\n",
      "depois (723, 16551, 4.36831611382998)\n"
     ]
    }
   ],
   "source": [
    "antes_depois(feminino)"
   ]
  },
  {
   "cell_type": "code",
   "execution_count": 104,
   "id": "1aca7223",
   "metadata": {},
   "outputs": [
    {
     "name": "stdout",
     "output_type": "stream",
     "text": [
      "antes (153586, 4373739, 3.5115492716872225)\n",
      "depois (1652, 30577, 5.402753703764267)\n"
     ]
    }
   ],
   "source": [
    "antes_depois(data)"
   ]
  },
  {
   "cell_type": "code",
   "execution_count": 105,
   "id": "268cc39d",
   "metadata": {},
   "outputs": [
    {
     "name": "stdout",
     "output_type": "stream",
     "text": [
      "antes (86918, 2049201, 4.241555611186994)\n",
      "depois (928, 14024, 6.617227609811752)\n"
     ]
    }
   ],
   "source": [
    "antes_depois(data.query(\"cs_sexo=='MASCULINO'\"))"
   ]
  },
  {
   "cell_type": "code",
   "execution_count": 107,
   "id": "c1a68b4d",
   "metadata": {},
   "outputs": [
    {
     "data": {
      "text/html": [
       "<div>\n",
       "<style scoped>\n",
       "    .dataframe tbody tr th:only-of-type {\n",
       "        vertical-align: middle;\n",
       "    }\n",
       "\n",
       "    .dataframe tbody tr th {\n",
       "        vertical-align: top;\n",
       "    }\n",
       "\n",
       "    .dataframe thead th {\n",
       "        text-align: right;\n",
       "    }\n",
       "</style>\n",
       "<table border=\"1\" class=\"dataframe\">\n",
       "  <thead>\n",
       "    <tr style=\"text-align: right;\">\n",
       "      <th></th>\n",
       "      <th>mes</th>\n",
       "      <th>ano</th>\n",
       "      <th>obito</th>\n",
       "      <th>puerpera_sim</th>\n",
       "      <th>contador</th>\n",
       "      <th>puerpera_obito</th>\n",
       "      <th>taxa_obito</th>\n",
       "      <th>taxa_puerpera</th>\n",
       "      <th>taxa_obito_puerpera</th>\n",
       "      <th>contador_m</th>\n",
       "      <th>contador_k</th>\n",
       "      <th>obito_k</th>\n",
       "      <th>obito_m</th>\n",
       "      <th>data</th>\n",
       "    </tr>\n",
       "  </thead>\n",
       "  <tbody>\n",
       "    <tr>\n",
       "      <th>1</th>\n",
       "      <td>2</td>\n",
       "      <td>2020</td>\n",
       "      <td>3</td>\n",
       "      <td>0</td>\n",
       "      <td>913</td>\n",
       "      <td>0</td>\n",
       "      <td>0.328587</td>\n",
       "      <td>0.000000</td>\n",
       "      <td>NaN</td>\n",
       "      <td>0.000913</td>\n",
       "      <td>0.913</td>\n",
       "      <td>0.003</td>\n",
       "      <td>0.000003</td>\n",
       "      <td>2020-02-01</td>\n",
       "    </tr>\n",
       "    <tr>\n",
       "      <th>3</th>\n",
       "      <td>3</td>\n",
       "      <td>2020</td>\n",
       "      <td>2051</td>\n",
       "      <td>10</td>\n",
       "      <td>19353</td>\n",
       "      <td>2</td>\n",
       "      <td>10.597840</td>\n",
       "      <td>0.051672</td>\n",
       "      <td>20.000000</td>\n",
       "      <td>0.019353</td>\n",
       "      <td>19.353</td>\n",
       "      <td>2.051</td>\n",
       "      <td>0.002051</td>\n",
       "      <td>2020-03-01</td>\n",
       "    </tr>\n",
       "    <tr>\n",
       "      <th>5</th>\n",
       "      <td>4</td>\n",
       "      <td>2020</td>\n",
       "      <td>5163</td>\n",
       "      <td>44</td>\n",
       "      <td>54796</td>\n",
       "      <td>5</td>\n",
       "      <td>9.422221</td>\n",
       "      <td>0.080298</td>\n",
       "      <td>11.363636</td>\n",
       "      <td>0.054796</td>\n",
       "      <td>54.796</td>\n",
       "      <td>5.163</td>\n",
       "      <td>0.005163</td>\n",
       "      <td>2020-04-01</td>\n",
       "    </tr>\n",
       "    <tr>\n",
       "      <th>7</th>\n",
       "      <td>5</td>\n",
       "      <td>2020</td>\n",
       "      <td>8476</td>\n",
       "      <td>80</td>\n",
       "      <td>133700</td>\n",
       "      <td>14</td>\n",
       "      <td>6.339566</td>\n",
       "      <td>0.059835</td>\n",
       "      <td>17.500000</td>\n",
       "      <td>0.133700</td>\n",
       "      <td>133.700</td>\n",
       "      <td>8.476</td>\n",
       "      <td>0.008476</td>\n",
       "      <td>2020-05-01</td>\n",
       "    </tr>\n",
       "    <tr>\n",
       "      <th>9</th>\n",
       "      <td>6</td>\n",
       "      <td>2020</td>\n",
       "      <td>7940</td>\n",
       "      <td>55</td>\n",
       "      <td>214532</td>\n",
       "      <td>9</td>\n",
       "      <td>3.701080</td>\n",
       "      <td>0.025637</td>\n",
       "      <td>16.363636</td>\n",
       "      <td>0.214532</td>\n",
       "      <td>214.532</td>\n",
       "      <td>7.940</td>\n",
       "      <td>0.007940</td>\n",
       "      <td>2020-06-01</td>\n",
       "    </tr>\n",
       "  </tbody>\n",
       "</table>\n",
       "</div>"
      ],
      "text/plain": [
       "   mes   ano  obito  puerpera_sim  contador  puerpera_obito  taxa_obito  \\\n",
       "1    2  2020      3             0       913               0    0.328587   \n",
       "3    3  2020   2051            10     19353               2   10.597840   \n",
       "5    4  2020   5163            44     54796               5    9.422221   \n",
       "7    5  2020   8476            80    133700              14    6.339566   \n",
       "9    6  2020   7940            55    214532               9    3.701080   \n",
       "\n",
       "   taxa_puerpera  taxa_obito_puerpera  contador_m  contador_k  obito_k  \\\n",
       "1       0.000000                  NaN    0.000913       0.913    0.003   \n",
       "3       0.051672            20.000000    0.019353      19.353    2.051   \n",
       "5       0.080298            11.363636    0.054796      54.796    5.163   \n",
       "7       0.059835            17.500000    0.133700     133.700    8.476   \n",
       "9       0.025637            16.363636    0.214532     214.532    7.940   \n",
       "\n",
       "    obito_m       data  \n",
       "1  0.000003 2020-02-01  \n",
       "3  0.002051 2020-03-01  \n",
       "5  0.005163 2020-04-01  \n",
       "7  0.008476 2020-05-01  \n",
       "9  0.007940 2020-06-01  "
      ]
     },
     "execution_count": 107,
     "metadata": {},
     "output_type": "execute_result"
    }
   ],
   "source": [
    "por_mes = data.groupby(by=[data[\"data_inicio_sintomas\"].dt.month, data[\"data_inicio_sintomas\"].dt.year])[[\"obito\", \"puerpera_sim\", \"contador\", \"puerpera_obito\"]].sum()\n",
    "por_mes.index.names = ['mes','ano']\n",
    "por_mes = por_mes.reset_index().sort_values([\"ano\", \"mes\"], ascending=True)\n",
    "por_mes[\"taxa_obito\"] = por_mes[\"obito\"] / por_mes[\"contador\"] * 100\n",
    "por_mes[\"taxa_puerpera\"] = por_mes[\"puerpera_sim\"] / por_mes[\"contador\"] * 100\n",
    "por_mes[\"taxa_obito_puerpera\"] = por_mes[\"puerpera_obito\"] / por_mes[\"puerpera_sim\"] * 100\n",
    "por_mes[\"contador_m\"] = por_mes[\"contador\"] / 1000_000\n",
    "por_mes[\"contador_k\"] = por_mes[\"contador\"] / 1000\n",
    "por_mes[\"obito_k\"] = por_mes[\"obito\"] / 1000\n",
    "por_mes[\"obito_m\"] = por_mes[\"obito\"] / 1000_000\n",
    "por_mes[\"data\"] = pd.to_datetime(por_mes[\"mes\"].astype(str) + \"/\" + por_mes[\"ano\"].astype(str))\n",
    "por_mes.head()"
   ]
  },
  {
   "cell_type": "code",
   "execution_count": 108,
   "id": "a9bdd66c",
   "metadata": {},
   "outputs": [
    {
     "data": {
      "text/plain": [
       "<AxesSubplot:xlabel='data', ylabel='taxa_obito'>"
      ]
     },
     "execution_count": 108,
     "metadata": {},
     "output_type": "execute_result"
    },
    {
     "data": {
      "image/png": "[encoded data removed]",
      "text/plain": [
       "<Figure size 432x288 with 1 Axes>"
      ]
     },
     "metadata": {
      "needs_background": "light"
     },
     "output_type": "display_data"
    }
   ],
   "source": [
    "sns.lineplot(data=por_mes, x=\"data\", y=\"taxa_obito\")"
   ]
  },
  {
   "cell_type": "code",
   "execution_count": 109,
   "id": "88c4b625",
   "metadata": {},
   "outputs": [
    {
     "data": {
      "text/plain": [
       "<AxesSubplot:xlabel='data', ylabel='taxa_puerpera'>"
      ]
     },
     "execution_count": 109,
     "metadata": {},
     "output_type": "execute_result"
    },
    {
     "data": {
      "image/png": "[encoded data removed]",
      "text/plain": [
       "<Figure size 432x288 with 1 Axes>"
      ]
     },
     "metadata": {
      "needs_background": "light"
     },
     "output_type": "display_data"
    }
   ],
   "source": [
    "sns.lineplot(data=por_mes, x=\"data\", y=\"taxa_puerpera\")\n",
    "sns.lineplot(data=por_mes, x=\"data\", y=\"contador_m\")"
   ]
  },
  {
   "cell_type": "code",
   "execution_count": 110,
   "id": "f734870f",
   "metadata": {},
   "outputs": [
    {
     "data": {
      "text/plain": [
       "<AxesSubplot:xlabel='data', ylabel='taxa_obito_puerpera'>"
      ]
     },
     "execution_count": 110,
     "metadata": {},
     "output_type": "execute_result"
    },
    {
     "data": {
      "image/png": "[encoded data removed]",
      "text/plain": [
       "<Figure size 432x288 with 1 Axes>"
      ]
     },
     "metadata": {
      "needs_background": "light"
     },
     "output_type": "display_data"
    }
   ],
   "source": [
    "\n",
    "sns.lineplot(data=por_mes, x=\"data\", y=\"taxa_obito_puerpera\")\n"
   ]
  },
  {
   "cell_type": "code",
   "execution_count": 112,
   "id": "f526cc43",
   "metadata": {},
   "outputs": [
    {
     "data": {
      "text/plain": [
       "<AxesSubplot:xlabel='data', ylabel='taxa_obito_puerpera'>"
      ]
     },
     "execution_count": 112,
     "metadata": {},
     "output_type": "execute_result"
    },
    {
     "data": {
      "image/png": "[encoded data removed]",
      "text/plain": [
       "<Figure size 432x288 with 1 Axes>"
      ]
     },
     "metadata": {
      "needs_background": "light"
     },
     "output_type": "display_data"
    }
   ],
   "source": [
    "\n",
    "sns.lineplot(data=por_mes, x=\"data\", y=\"taxa_obito_puerpera\")\n",
    "sns.lineplot(data=por_mes, x=\"data\", y=\"obito_k\")\n",
    "sns.lineplot(data=por_mes, x=\"data\", y=\"puerpera_sim\")\n"
   ]
  },
  {
   "cell_type": "code",
   "execution_count": 114,
   "id": "045a7756",
   "metadata": {},
   "outputs": [
    {
     "data": {
      "text/html": [
       "<div>\n",
       "<style scoped>\n",
       "    .dataframe tbody tr th:only-of-type {\n",
       "        vertical-align: middle;\n",
       "    }\n",
       "\n",
       "    .dataframe tbody tr th {\n",
       "        vertical-align: top;\n",
       "    }\n",
       "\n",
       "    .dataframe thead th {\n",
       "        text-align: right;\n",
       "    }\n",
       "</style>\n",
       "<table border=\"1\" class=\"dataframe\">\n",
       "  <thead>\n",
       "    <tr style=\"text-align: right;\">\n",
       "      <th></th>\n",
       "      <th>data</th>\n",
       "      <th>puerpera_sim</th>\n",
       "      <th>taxa_obito_puerpera</th>\n",
       "      <th>contador</th>\n",
       "      <th>taxa_obito</th>\n",
       "    </tr>\n",
       "  </thead>\n",
       "  <tbody>\n",
       "    <tr>\n",
       "      <th>1</th>\n",
       "      <td>2020-02-01</td>\n",
       "      <td>0</td>\n",
       "      <td>NaN</td>\n",
       "      <td>913</td>\n",
       "      <td>0.328587</td>\n",
       "    </tr>\n",
       "    <tr>\n",
       "      <th>3</th>\n",
       "      <td>2020-03-01</td>\n",
       "      <td>10</td>\n",
       "      <td>20.000000</td>\n",
       "      <td>19353</td>\n",
       "      <td>10.597840</td>\n",
       "    </tr>\n",
       "    <tr>\n",
       "      <th>5</th>\n",
       "      <td>2020-04-01</td>\n",
       "      <td>44</td>\n",
       "      <td>11.363636</td>\n",
       "      <td>54796</td>\n",
       "      <td>9.422221</td>\n",
       "    </tr>\n",
       "    <tr>\n",
       "      <th>7</th>\n",
       "      <td>2020-05-01</td>\n",
       "      <td>80</td>\n",
       "      <td>17.500000</td>\n",
       "      <td>133700</td>\n",
       "      <td>6.339566</td>\n",
       "    </tr>\n",
       "    <tr>\n",
       "      <th>9</th>\n",
       "      <td>2020-06-01</td>\n",
       "      <td>55</td>\n",
       "      <td>16.363636</td>\n",
       "      <td>214532</td>\n",
       "      <td>3.701080</td>\n",
       "    </tr>\n",
       "    <tr>\n",
       "      <th>11</th>\n",
       "      <td>2020-07-01</td>\n",
       "      <td>56</td>\n",
       "      <td>8.928571</td>\n",
       "      <td>277159</td>\n",
       "      <td>2.866225</td>\n",
       "    </tr>\n",
       "    <tr>\n",
       "      <th>13</th>\n",
       "      <td>2020-08-01</td>\n",
       "      <td>34</td>\n",
       "      <td>11.764706</td>\n",
       "      <td>210387</td>\n",
       "      <td>2.632292</td>\n",
       "    </tr>\n",
       "    <tr>\n",
       "      <th>15</th>\n",
       "      <td>2020-09-01</td>\n",
       "      <td>24</td>\n",
       "      <td>16.666667</td>\n",
       "      <td>144652</td>\n",
       "      <td>2.575837</td>\n",
       "    </tr>\n",
       "    <tr>\n",
       "      <th>17</th>\n",
       "      <td>2020-10-01</td>\n",
       "      <td>21</td>\n",
       "      <td>14.285714</td>\n",
       "      <td>117830</td>\n",
       "      <td>2.236273</td>\n",
       "    </tr>\n",
       "    <tr>\n",
       "      <th>19</th>\n",
       "      <td>2020-11-01</td>\n",
       "      <td>35</td>\n",
       "      <td>11.428571</td>\n",
       "      <td>198933</td>\n",
       "      <td>2.195714</td>\n",
       "    </tr>\n",
       "    <tr>\n",
       "      <th>21</th>\n",
       "      <td>2020-12-01</td>\n",
       "      <td>63</td>\n",
       "      <td>11.111111</td>\n",
       "      <td>267778</td>\n",
       "      <td>2.394521</td>\n",
       "    </tr>\n",
       "    <tr>\n",
       "      <th>0</th>\n",
       "      <td>2021-01-01</td>\n",
       "      <td>60</td>\n",
       "      <td>18.333333</td>\n",
       "      <td>344199</td>\n",
       "      <td>2.416625</td>\n",
       "    </tr>\n",
       "    <tr>\n",
       "      <th>2</th>\n",
       "      <td>2021-02-01</td>\n",
       "      <td>81</td>\n",
       "      <td>27.160494</td>\n",
       "      <td>282476</td>\n",
       "      <td>3.914315</td>\n",
       "    </tr>\n",
       "    <tr>\n",
       "      <th>4</th>\n",
       "      <td>2021-03-01</td>\n",
       "      <td>197</td>\n",
       "      <td>27.411168</td>\n",
       "      <td>539520</td>\n",
       "      <td>5.140310</td>\n",
       "    </tr>\n",
       "    <tr>\n",
       "      <th>6</th>\n",
       "      <td>2021-04-01</td>\n",
       "      <td>102</td>\n",
       "      <td>14.705882</td>\n",
       "      <td>331087</td>\n",
       "      <td>4.535364</td>\n",
       "    </tr>\n",
       "    <tr>\n",
       "      <th>8</th>\n",
       "      <td>2021-05-01</td>\n",
       "      <td>146</td>\n",
       "      <td>24.657534</td>\n",
       "      <td>472811</td>\n",
       "      <td>3.430546</td>\n",
       "    </tr>\n",
       "    <tr>\n",
       "      <th>10</th>\n",
       "      <td>2021-06-01</td>\n",
       "      <td>137</td>\n",
       "      <td>17.518248</td>\n",
       "      <td>406926</td>\n",
       "      <td>2.788713</td>\n",
       "    </tr>\n",
       "    <tr>\n",
       "      <th>12</th>\n",
       "      <td>2021-07-01</td>\n",
       "      <td>53</td>\n",
       "      <td>20.754717</td>\n",
       "      <td>210025</td>\n",
       "      <td>2.514939</td>\n",
       "    </tr>\n",
       "    <tr>\n",
       "      <th>14</th>\n",
       "      <td>2021-08-01</td>\n",
       "      <td>29</td>\n",
       "      <td>13.793103</td>\n",
       "      <td>112705</td>\n",
       "      <td>2.303358</td>\n",
       "    </tr>\n",
       "    <tr>\n",
       "      <th>16</th>\n",
       "      <td>2021-09-01</td>\n",
       "      <td>21</td>\n",
       "      <td>4.761905</td>\n",
       "      <td>33957</td>\n",
       "      <td>5.183026</td>\n",
       "    </tr>\n",
       "    <tr>\n",
       "      <th>18</th>\n",
       "      <td>2021-10-01</td>\n",
       "      <td>11</td>\n",
       "      <td>27.272727</td>\n",
       "      <td>20021</td>\n",
       "      <td>5.504221</td>\n",
       "    </tr>\n",
       "    <tr>\n",
       "      <th>20</th>\n",
       "      <td>2021-11-01</td>\n",
       "      <td>4</td>\n",
       "      <td>0.000000</td>\n",
       "      <td>9419</td>\n",
       "      <td>5.329653</td>\n",
       "    </tr>\n",
       "    <tr>\n",
       "      <th>22</th>\n",
       "      <td>2021-12-01</td>\n",
       "      <td>1</td>\n",
       "      <td>0.000000</td>\n",
       "      <td>1137</td>\n",
       "      <td>4.221636</td>\n",
       "    </tr>\n",
       "  </tbody>\n",
       "</table>\n",
       "</div>"
      ],
      "text/plain": [
       "         data  puerpera_sim  taxa_obito_puerpera  contador  taxa_obito\n",
       "1  2020-02-01             0                  NaN       913    0.328587\n",
       "3  2020-03-01            10            20.000000     19353   10.597840\n",
       "5  2020-04-01            44            11.363636     54796    9.422221\n",
       "7  2020-05-01            80            17.500000    133700    6.339566\n",
       "9  2020-06-01            55            16.363636    214532    3.701080\n",
       "11 2020-07-01            56             8.928571    277159    2.866225\n",
       "13 2020-08-01            34            11.764706    210387    2.632292\n",
       "15 2020-09-01            24            16.666667    144652    2.575837\n",
       "17 2020-10-01            21            14.285714    117830    2.236273\n",
       "19 2020-11-01            35            11.428571    198933    2.195714\n",
       "21 2020-12-01            63            11.111111    267778    2.394521\n",
       "0  2021-01-01            60            18.333333    344199    2.416625\n",
       "2  2021-02-01            81            27.160494    282476    3.914315\n",
       "4  2021-03-01           197            27.411168    539520    5.140310\n",
       "6  2021-04-01           102            14.705882    331087    4.535364\n",
       "8  2021-05-01           146            24.657534    472811    3.430546\n",
       "10 2021-06-01           137            17.518248    406926    2.788713\n",
       "12 2021-07-01            53            20.754717    210025    2.514939\n",
       "14 2021-08-01            29            13.793103    112705    2.303358\n",
       "16 2021-09-01            21             4.761905     33957    5.183026\n",
       "18 2021-10-01            11            27.272727     20021    5.504221\n",
       "20 2021-11-01             4             0.000000      9419    5.329653\n",
       "22 2021-12-01             1             0.000000      1137    4.221636"
      ]
     },
     "execution_count": 114,
     "metadata": {},
     "output_type": "execute_result"
    }
   ],
   "source": [
    "por_mes[[\"data\", \"puerpera_sim\", \"taxa_obito_puerpera\", \"contador\", \"taxa_obito\"]]"
   ]
  },
  {
   "cell_type": "code",
   "execution_count": null,
   "id": "058b8503",
   "metadata": {},
   "outputs": [],
   "source": []
  }
 ],
 "metadata": {
  "kernelspec": {
   "display_name": "Python 3 (ipykernel)",
   "language": "python",
   "name": "python3"
  },
  "language_info": {
   "codemirror_mode": {
    "name": "ipython",
    "version": 3
   },
   "file_extension": ".py",
   "mimetype": "text/x-python",
   "name": "python",
   "nbconvert_exporter": "python",
   "pygments_lexer": "ipython3",
   "version": "3.7.7"
  }
 },
 "nbformat": 4,
 "nbformat_minor": 5
}
